{
  "cells": [
    {
      "cell_type": "code",
      "source": [
        "!pip install --quiet tensorflow-text\n",
        "!pip install --quiet tokenizers"
      ],
      "metadata": {
        "id": "gNLUjn9Zkhx0"
      },
      "execution_count": 1,
      "outputs": []
    },
    {
      "cell_type": "code",
      "source": [
        "import os \n",
        "import json\n",
        "# from google.colab import files \n",
        "from google.colab import drive\n",
        "drive.mount('/content/drive')\n",
        "import pandas as pd\n",
        "import numpy as np\n",
        "import re\n",
        "\n",
        "import matplotlib.pyplot as plt \n",
        "# import tensorflow as tf \n",
        "# from tensorflow import keras\n",
        "# from tensorflow.keras import layers,Input,Model\n",
        "# from tensorflow.keras.layers import * \n",
        "# from tensorflow.keras.preprocessing.sequence import pad_sequences\n",
        "\n",
        "import tensorflow_hub as hub \n",
        "from tokenizers import BertWordPieceTokenizer\n",
        "# import tensorflow.compat.v1 as tf\n",
        "import tensorflow_text as text \n",
        "\n",
        "bert_layer = hub.KerasLayer(\"https://tfhub.dev/tensorflow/bert_en_uncased_L-12_H-768_A-12/2\", trainable=True)\n",
        "vocab_file = bert_layer.resolved_object.vocab_file.asset_path.numpy().decode(\"utf-8\")\n",
        "tokenizer = BertWordPieceTokenizer(vocab=vocab_file, lowercase=True)\n",
        "plt.style.use('ggplot')\n",
        "import seaborn as sns"
      ],
      "metadata": {
        "colab": {
          "base_uri": "https://localhost:8080/"
        },
        "id": "2xZtkGo62iyP",
        "outputId": "05f112b4-8892-4811-9443-a0f136955aba"
      },
      "execution_count": 2,
      "outputs": [
        {
          "output_type": "stream",
          "name": "stdout",
          "text": [
            "Drive already mounted at /content/drive; to attempt to forcibly remount, call drive.mount(\"/content/drive\", force_remount=True).\n"
          ]
        }
      ]
    },
    {
      "cell_type": "code",
      "source": [
        "from data_loader import df_maker,answer_extractor\n",
        "input_len = 384"
      ],
      "metadata": {
        "id": "eksWEIHL3LuW"
      },
      "execution_count": 3,
      "outputs": []
    },
    {
      "cell_type": "code",
      "source": [
        "train_path = 'drive/MyDrive/Colab Notebooks/datasets/squad/train-v1.1.json'\n",
        "test_path = 'drive/MyDrive/Colab Notebooks/datasets/squad/dev-v1.1.json'\n",
        "\n",
        "train_data = df_maker(train_path).squad_json_to_dataframe()\n",
        "test_data = df_maker(test_path).squad_json_to_dataframe()"
      ],
      "metadata": {
        "id": "v-P4FITu3XqM"
      },
      "execution_count": 4,
      "outputs": []
    },
    {
      "cell_type": "code",
      "source": [
        "train_answer_text,train_answer_pos = answer_extractor(train_data['answers']).answer_extractor_2()\n",
        "test_answer_text,test_answer_pos = answer_extractor(test_data['answers']).answer_extractor_2()\n",
        "\n",
        "train_data = train_data.drop(columns = ['id', 'c_id'])\n",
        "train_data['answers'] = train_answer_text\n",
        "train_data['starting_idx'] = train_answer_pos\n",
        "\n",
        "test_data = test_data.drop(columns = ['id', 'c_id'])\n",
        "test_data['answers'] = test_answer_text\n",
        "test_data['starting_idx'] = test_answer_pos\n",
        "train_data = train_data.reset_index(drop=True)\n",
        "test_data = test_data.reset_index(drop=True)\n",
        "\n",
        "class str_maker :\n",
        "\n",
        "  def __init__(self, data):\n",
        "    self.data = data \n",
        "\n",
        "  def splitter(self):\n",
        "    bos = []\n",
        "    for i in self.data:\n",
        "      bos.append(' '.join(i.split()))\n",
        "\n",
        "    return bos\n",
        "\n",
        "train_answer_str = str_maker(train_data['answers']).splitter()\n",
        "train_question_str = str_maker(train_data['question']).splitter()\n",
        "train_context_str = str_maker(train_data['context']).splitter()\n",
        "\n",
        "test_answer_str = str_maker(test_data['answers']).splitter()\n",
        "test_question_str = str_maker(test_data['question']).splitter()\n",
        "test_context_str = str_maker(test_data['context']).splitter()\n",
        "\n",
        "\n",
        "def token_positioner(x):\n",
        "    first_pos = []\n",
        "    last_pos = []\n",
        "    for i in range(len(x)):\n",
        "        context_ids = tokenizer.encode(x['context'][i]).ids\n",
        "        answer_ids = tokenizer.encode(x['answers'][i]).ids[1:-1]\n",
        "        pos = (np.where(np.in1d(context_ids,answer_ids)== True)[0])\n",
        "\n",
        "        if len(pos) != 0 :\n",
        "            first_pos.append(pos[0])\n",
        "            last_pos.append(pos[0]+len(answer_ids))\n",
        "\n",
        "        else :\n",
        "            first_pos.append(-1)\n",
        "            last_pos.append(-1)\n",
        "\n",
        "\n",
        "    return first_pos, last_pos\n",
        "\n",
        "first_pos_train,last_pos_train = token_positioner(train_data)\n",
        "first_pos_test,last_pos_test = token_positioner(test_data)\n",
        "\n",
        "dropper = np.where(np.array(first_pos_train) == -1)[0]\n",
        "dropper2 = np.where(np.array(last_pos_train) > input_len-1)[0]\n",
        "train_data  = train_data.drop(dropper)\n",
        "train_data  = train_data.drop(dropper2).reset_index(drop = True)\n",
        "\n",
        "train_answer_str = str_maker(train_data['answers']).splitter()\n",
        "train_question_str = str_maker(train_data['question']).splitter()\n",
        "train_context_str = str_maker(train_data['context']).splitter()\n",
        "\n",
        "test_answer_str = str_maker(test_data['answers']).splitter()\n",
        "test_question_str = str_maker(test_data['question']).splitter()\n",
        "test_context_str = str_maker(test_data['context']).splitter()\n",
        "\n",
        "first_pos_train,last_pos_train = token_positioner(train_data)\n",
        "first_pos_test,last_pos_test = token_positioner(test_data)\n",
        "\n",
        "train_data['first_pos'] = first_pos_train\n",
        "train_data['last_pos'] = last_pos_train\n",
        "\n",
        "test_data['first_pos'] = first_pos_test\n",
        "test_data['last_pos'] = last_pos_test"
      ],
      "metadata": {
        "id": "Q1HVzD-vCBkl"
      },
      "execution_count": 5,
      "outputs": []
    },
    {
      "cell_type": "code",
      "source": [
        "print('number of train data point',len(train_data))\n",
        "print(train_data.dtypes)\n",
        "\n",
        "print('number of test data point',len(test_data))\n",
        "print(test_data.dtypes)"
      ],
      "metadata": {
        "colab": {
          "base_uri": "https://localhost:8080/"
        },
        "id": "Gub92S7t3beM",
        "outputId": "b11bcbd3-29c0-411d-a700-c424d031b1f3"
      },
      "execution_count": 6,
      "outputs": [
        {
          "output_type": "stream",
          "name": "stdout",
          "text": [
            "number of train data point 87454\n",
            "question        object\n",
            "context         object\n",
            "answers         object\n",
            "starting_idx     int64\n",
            "first_pos        int64\n",
            "last_pos         int64\n",
            "dtype: object\n",
            "number of test data point 10570\n",
            "question        object\n",
            "context         object\n",
            "answers         object\n",
            "starting_idx     int64\n",
            "first_pos        int64\n",
            "last_pos         int64\n",
            "dtype: object\n"
          ]
        }
      ]
    },
    {
      "cell_type": "code",
      "source": [
        "train_data.head(3)"
      ],
      "metadata": {
        "colab": {
          "base_uri": "https://localhost:8080/",
          "height": 143
        },
        "id": "xyUg4BgM3hMD",
        "outputId": "6b82a842-cf0f-4cbb-bb89-c6c7928ac5b7"
      },
      "execution_count": 7,
      "outputs": [
        {
          "output_type": "execute_result",
          "data": {
            "text/plain": [
              "                                            question  \\\n",
              "0  To whom did the Virgin Mary allegedly appear i...   \n",
              "1  What is in front of the Notre Dame Main Building?   \n",
              "2  The Basilica of the Sacred heart at Notre Dame...   \n",
              "\n",
              "                                             context  \\\n",
              "0  Architecturally, the school has a Catholic cha...   \n",
              "1  Architecturally, the school has a Catholic cha...   \n",
              "2  Architecturally, the school has a Catholic cha...   \n",
              "\n",
              "                      answers  starting_idx  first_pos  last_pos  \n",
              "0  Saint Bernadette Soubirous           515        114       122  \n",
              "1   a copper statue of Christ           188          7        12  \n",
              "2           the Main Building           279          4         7  "
            ],
            "text/html": [
              "\n",
              "  <div id=\"df-b521f067-42c3-48f1-aca5-fa772ac037c0\">\n",
              "    <div class=\"colab-df-container\">\n",
              "      <div>\n",
              "<style scoped>\n",
              "    .dataframe tbody tr th:only-of-type {\n",
              "        vertical-align: middle;\n",
              "    }\n",
              "\n",
              "    .dataframe tbody tr th {\n",
              "        vertical-align: top;\n",
              "    }\n",
              "\n",
              "    .dataframe thead th {\n",
              "        text-align: right;\n",
              "    }\n",
              "</style>\n",
              "<table border=\"1\" class=\"dataframe\">\n",
              "  <thead>\n",
              "    <tr style=\"text-align: right;\">\n",
              "      <th></th>\n",
              "      <th>question</th>\n",
              "      <th>context</th>\n",
              "      <th>answers</th>\n",
              "      <th>starting_idx</th>\n",
              "      <th>first_pos</th>\n",
              "      <th>last_pos</th>\n",
              "    </tr>\n",
              "  </thead>\n",
              "  <tbody>\n",
              "    <tr>\n",
              "      <th>0</th>\n",
              "      <td>To whom did the Virgin Mary allegedly appear i...</td>\n",
              "      <td>Architecturally, the school has a Catholic cha...</td>\n",
              "      <td>Saint Bernadette Soubirous</td>\n",
              "      <td>515</td>\n",
              "      <td>114</td>\n",
              "      <td>122</td>\n",
              "    </tr>\n",
              "    <tr>\n",
              "      <th>1</th>\n",
              "      <td>What is in front of the Notre Dame Main Building?</td>\n",
              "      <td>Architecturally, the school has a Catholic cha...</td>\n",
              "      <td>a copper statue of Christ</td>\n",
              "      <td>188</td>\n",
              "      <td>7</td>\n",
              "      <td>12</td>\n",
              "    </tr>\n",
              "    <tr>\n",
              "      <th>2</th>\n",
              "      <td>The Basilica of the Sacred heart at Notre Dame...</td>\n",
              "      <td>Architecturally, the school has a Catholic cha...</td>\n",
              "      <td>the Main Building</td>\n",
              "      <td>279</td>\n",
              "      <td>4</td>\n",
              "      <td>7</td>\n",
              "    </tr>\n",
              "  </tbody>\n",
              "</table>\n",
              "</div>\n",
              "      <button class=\"colab-df-convert\" onclick=\"convertToInteractive('df-b521f067-42c3-48f1-aca5-fa772ac037c0')\"\n",
              "              title=\"Convert this dataframe to an interactive table.\"\n",
              "              style=\"display:none;\">\n",
              "        \n",
              "  <svg xmlns=\"http://www.w3.org/2000/svg\" height=\"24px\"viewBox=\"0 0 24 24\"\n",
              "       width=\"24px\">\n",
              "    <path d=\"M0 0h24v24H0V0z\" fill=\"none\"/>\n",
              "    <path d=\"M18.56 5.44l.94 2.06.94-2.06 2.06-.94-2.06-.94-.94-2.06-.94 2.06-2.06.94zm-11 1L8.5 8.5l.94-2.06 2.06-.94-2.06-.94L8.5 2.5l-.94 2.06-2.06.94zm10 10l.94 2.06.94-2.06 2.06-.94-2.06-.94-.94-2.06-.94 2.06-2.06.94z\"/><path d=\"M17.41 7.96l-1.37-1.37c-.4-.4-.92-.59-1.43-.59-.52 0-1.04.2-1.43.59L10.3 9.45l-7.72 7.72c-.78.78-.78 2.05 0 2.83L4 21.41c.39.39.9.59 1.41.59.51 0 1.02-.2 1.41-.59l7.78-7.78 2.81-2.81c.8-.78.8-2.07 0-2.86zM5.41 20L4 18.59l7.72-7.72 1.47 1.35L5.41 20z\"/>\n",
              "  </svg>\n",
              "      </button>\n",
              "      \n",
              "  <style>\n",
              "    .colab-df-container {\n",
              "      display:flex;\n",
              "      flex-wrap:wrap;\n",
              "      gap: 12px;\n",
              "    }\n",
              "\n",
              "    .colab-df-convert {\n",
              "      background-color: #E8F0FE;\n",
              "      border: none;\n",
              "      border-radius: 50%;\n",
              "      cursor: pointer;\n",
              "      display: none;\n",
              "      fill: #1967D2;\n",
              "      height: 32px;\n",
              "      padding: 0 0 0 0;\n",
              "      width: 32px;\n",
              "    }\n",
              "\n",
              "    .colab-df-convert:hover {\n",
              "      background-color: #E2EBFA;\n",
              "      box-shadow: 0px 1px 2px rgba(60, 64, 67, 0.3), 0px 1px 3px 1px rgba(60, 64, 67, 0.15);\n",
              "      fill: #174EA6;\n",
              "    }\n",
              "\n",
              "    [theme=dark] .colab-df-convert {\n",
              "      background-color: #3B4455;\n",
              "      fill: #D2E3FC;\n",
              "    }\n",
              "\n",
              "    [theme=dark] .colab-df-convert:hover {\n",
              "      background-color: #434B5C;\n",
              "      box-shadow: 0px 1px 3px 1px rgba(0, 0, 0, 0.15);\n",
              "      filter: drop-shadow(0px 1px 2px rgba(0, 0, 0, 0.3));\n",
              "      fill: #FFFFFF;\n",
              "    }\n",
              "  </style>\n",
              "\n",
              "      <script>\n",
              "        const buttonEl =\n",
              "          document.querySelector('#df-b521f067-42c3-48f1-aca5-fa772ac037c0 button.colab-df-convert');\n",
              "        buttonEl.style.display =\n",
              "          google.colab.kernel.accessAllowed ? 'block' : 'none';\n",
              "\n",
              "        async function convertToInteractive(key) {\n",
              "          const element = document.querySelector('#df-b521f067-42c3-48f1-aca5-fa772ac037c0');\n",
              "          const dataTable =\n",
              "            await google.colab.kernel.invokeFunction('convertToInteractive',\n",
              "                                                     [key], {});\n",
              "          if (!dataTable) return;\n",
              "\n",
              "          const docLinkHtml = 'Like what you see? Visit the ' +\n",
              "            '<a target=\"_blank\" href=https://colab.research.google.com/notebooks/data_table.ipynb>data table notebook</a>'\n",
              "            + ' to learn more about interactive tables.';\n",
              "          element.innerHTML = '';\n",
              "          dataTable['output_type'] = 'display_data';\n",
              "          await google.colab.output.renderOutput(dataTable, element);\n",
              "          const docLink = document.createElement('div');\n",
              "          docLink.innerHTML = docLinkHtml;\n",
              "          element.appendChild(docLink);\n",
              "        }\n",
              "      </script>\n",
              "    </div>\n",
              "  </div>\n",
              "  "
            ]
          },
          "metadata": {},
          "execution_count": 7
        }
      ]
    },
    {
      "cell_type": "code",
      "source": [
        "train_data.head(3)"
      ],
      "metadata": {
        "colab": {
          "base_uri": "https://localhost:8080/",
          "height": 143
        },
        "id": "h-a_55o04FMj",
        "outputId": "b655dbc9-9457-46e2-e4ab-5a9e9c85341e"
      },
      "execution_count": 8,
      "outputs": [
        {
          "output_type": "execute_result",
          "data": {
            "text/plain": [
              "                                            question  \\\n",
              "0  To whom did the Virgin Mary allegedly appear i...   \n",
              "1  What is in front of the Notre Dame Main Building?   \n",
              "2  The Basilica of the Sacred heart at Notre Dame...   \n",
              "\n",
              "                                             context  \\\n",
              "0  Architecturally, the school has a Catholic cha...   \n",
              "1  Architecturally, the school has a Catholic cha...   \n",
              "2  Architecturally, the school has a Catholic cha...   \n",
              "\n",
              "                      answers  starting_idx  first_pos  last_pos  \n",
              "0  Saint Bernadette Soubirous           515        114       122  \n",
              "1   a copper statue of Christ           188          7        12  \n",
              "2           the Main Building           279          4         7  "
            ],
            "text/html": [
              "\n",
              "  <div id=\"df-330dbb55-cecc-454c-bcfb-70f9e3d0e929\">\n",
              "    <div class=\"colab-df-container\">\n",
              "      <div>\n",
              "<style scoped>\n",
              "    .dataframe tbody tr th:only-of-type {\n",
              "        vertical-align: middle;\n",
              "    }\n",
              "\n",
              "    .dataframe tbody tr th {\n",
              "        vertical-align: top;\n",
              "    }\n",
              "\n",
              "    .dataframe thead th {\n",
              "        text-align: right;\n",
              "    }\n",
              "</style>\n",
              "<table border=\"1\" class=\"dataframe\">\n",
              "  <thead>\n",
              "    <tr style=\"text-align: right;\">\n",
              "      <th></th>\n",
              "      <th>question</th>\n",
              "      <th>context</th>\n",
              "      <th>answers</th>\n",
              "      <th>starting_idx</th>\n",
              "      <th>first_pos</th>\n",
              "      <th>last_pos</th>\n",
              "    </tr>\n",
              "  </thead>\n",
              "  <tbody>\n",
              "    <tr>\n",
              "      <th>0</th>\n",
              "      <td>To whom did the Virgin Mary allegedly appear i...</td>\n",
              "      <td>Architecturally, the school has a Catholic cha...</td>\n",
              "      <td>Saint Bernadette Soubirous</td>\n",
              "      <td>515</td>\n",
              "      <td>114</td>\n",
              "      <td>122</td>\n",
              "    </tr>\n",
              "    <tr>\n",
              "      <th>1</th>\n",
              "      <td>What is in front of the Notre Dame Main Building?</td>\n",
              "      <td>Architecturally, the school has a Catholic cha...</td>\n",
              "      <td>a copper statue of Christ</td>\n",
              "      <td>188</td>\n",
              "      <td>7</td>\n",
              "      <td>12</td>\n",
              "    </tr>\n",
              "    <tr>\n",
              "      <th>2</th>\n",
              "      <td>The Basilica of the Sacred heart at Notre Dame...</td>\n",
              "      <td>Architecturally, the school has a Catholic cha...</td>\n",
              "      <td>the Main Building</td>\n",
              "      <td>279</td>\n",
              "      <td>4</td>\n",
              "      <td>7</td>\n",
              "    </tr>\n",
              "  </tbody>\n",
              "</table>\n",
              "</div>\n",
              "      <button class=\"colab-df-convert\" onclick=\"convertToInteractive('df-330dbb55-cecc-454c-bcfb-70f9e3d0e929')\"\n",
              "              title=\"Convert this dataframe to an interactive table.\"\n",
              "              style=\"display:none;\">\n",
              "        \n",
              "  <svg xmlns=\"http://www.w3.org/2000/svg\" height=\"24px\"viewBox=\"0 0 24 24\"\n",
              "       width=\"24px\">\n",
              "    <path d=\"M0 0h24v24H0V0z\" fill=\"none\"/>\n",
              "    <path d=\"M18.56 5.44l.94 2.06.94-2.06 2.06-.94-2.06-.94-.94-2.06-.94 2.06-2.06.94zm-11 1L8.5 8.5l.94-2.06 2.06-.94-2.06-.94L8.5 2.5l-.94 2.06-2.06.94zm10 10l.94 2.06.94-2.06 2.06-.94-2.06-.94-.94-2.06-.94 2.06-2.06.94z\"/><path d=\"M17.41 7.96l-1.37-1.37c-.4-.4-.92-.59-1.43-.59-.52 0-1.04.2-1.43.59L10.3 9.45l-7.72 7.72c-.78.78-.78 2.05 0 2.83L4 21.41c.39.39.9.59 1.41.59.51 0 1.02-.2 1.41-.59l7.78-7.78 2.81-2.81c.8-.78.8-2.07 0-2.86zM5.41 20L4 18.59l7.72-7.72 1.47 1.35L5.41 20z\"/>\n",
              "  </svg>\n",
              "      </button>\n",
              "      \n",
              "  <style>\n",
              "    .colab-df-container {\n",
              "      display:flex;\n",
              "      flex-wrap:wrap;\n",
              "      gap: 12px;\n",
              "    }\n",
              "\n",
              "    .colab-df-convert {\n",
              "      background-color: #E8F0FE;\n",
              "      border: none;\n",
              "      border-radius: 50%;\n",
              "      cursor: pointer;\n",
              "      display: none;\n",
              "      fill: #1967D2;\n",
              "      height: 32px;\n",
              "      padding: 0 0 0 0;\n",
              "      width: 32px;\n",
              "    }\n",
              "\n",
              "    .colab-df-convert:hover {\n",
              "      background-color: #E2EBFA;\n",
              "      box-shadow: 0px 1px 2px rgba(60, 64, 67, 0.3), 0px 1px 3px 1px rgba(60, 64, 67, 0.15);\n",
              "      fill: #174EA6;\n",
              "    }\n",
              "\n",
              "    [theme=dark] .colab-df-convert {\n",
              "      background-color: #3B4455;\n",
              "      fill: #D2E3FC;\n",
              "    }\n",
              "\n",
              "    [theme=dark] .colab-df-convert:hover {\n",
              "      background-color: #434B5C;\n",
              "      box-shadow: 0px 1px 3px 1px rgba(0, 0, 0, 0.15);\n",
              "      filter: drop-shadow(0px 1px 2px rgba(0, 0, 0, 0.3));\n",
              "      fill: #FFFFFF;\n",
              "    }\n",
              "  </style>\n",
              "\n",
              "      <script>\n",
              "        const buttonEl =\n",
              "          document.querySelector('#df-330dbb55-cecc-454c-bcfb-70f9e3d0e929 button.colab-df-convert');\n",
              "        buttonEl.style.display =\n",
              "          google.colab.kernel.accessAllowed ? 'block' : 'none';\n",
              "\n",
              "        async function convertToInteractive(key) {\n",
              "          const element = document.querySelector('#df-330dbb55-cecc-454c-bcfb-70f9e3d0e929');\n",
              "          const dataTable =\n",
              "            await google.colab.kernel.invokeFunction('convertToInteractive',\n",
              "                                                     [key], {});\n",
              "          if (!dataTable) return;\n",
              "\n",
              "          const docLinkHtml = 'Like what you see? Visit the ' +\n",
              "            '<a target=\"_blank\" href=https://colab.research.google.com/notebooks/data_table.ipynb>data table notebook</a>'\n",
              "            + ' to learn more about interactive tables.';\n",
              "          element.innerHTML = '';\n",
              "          dataTable['output_type'] = 'display_data';\n",
              "          await google.colab.output.renderOutput(dataTable, element);\n",
              "          const docLink = document.createElement('div');\n",
              "          docLink.innerHTML = docLinkHtml;\n",
              "          element.appendChild(docLink);\n",
              "        }\n",
              "      </script>\n",
              "    </div>\n",
              "  </div>\n",
              "  "
            ]
          },
          "metadata": {},
          "execution_count": 8
        }
      ]
    },
    {
      "cell_type": "code",
      "source": [
        "def string_len(x):\n",
        "    str_len = []\n",
        "    for i in range(len(x)):\n",
        "        str_len.append(len(str(x[i]).split()))\n",
        "\n",
        "    return str_len"
      ],
      "metadata": {
        "id": "Nr9cKnBU4HAB"
      },
      "execution_count": 9,
      "outputs": []
    },
    {
      "cell_type": "code",
      "source": [
        "train_q_len = string_len(train_data['question'])\n",
        "train_c_len = string_len(train_data['context'])\n",
        "train_a_len = string_len(train_data['answers'])"
      ],
      "metadata": {
        "id": "h4ta5SzN4dTv"
      },
      "execution_count": 10,
      "outputs": []
    },
    {
      "cell_type": "code",
      "source": [
        "plt.hist(train_a_len,  bins=np.arange(1,15), color='blue', alpha = 0.6);\n",
        "plt.title('ANSWER LENGTH AS # of blank space');\n",
        "plt.xticks(np.arange(1,15));"
      ],
      "metadata": {
        "colab": {
          "base_uri": "https://localhost:8080/",
          "height": 282
        },
        "id": "eio6uuap5bc7",
        "outputId": "3724add8-bb74-47cb-acba-fc7b4fd9a36e"
      },
      "execution_count": 22,
      "outputs": [
        {
          "output_type": "display_data",
          "data": {
            "text/plain": [
              "<Figure size 432x288 with 1 Axes>"
            ],
            "image/png": "[encoded data removed]"
          },
          "metadata": {}
        }
      ]
    },
    {
      "cell_type": "code",
      "source": [
        "plt.hist(train_q_len,  bins=np.arange(0,30,2), color='red', alpha = 0.6);\n",
        "plt.title('QUESTION LENGTH AS # of blank space');\n",
        "plt.xticks(np.arange(0,30,2));"
      ],
      "metadata": {
        "colab": {
          "base_uri": "https://localhost:8080/",
          "height": 282
        },
        "id": "nCrsYD7K4f1g",
        "outputId": "0ad4d7c4-04c1-4f3d-b382-332116983144"
      },
      "execution_count": 23,
      "outputs": [
        {
          "output_type": "display_data",
          "data": {
            "text/plain": [
              "<Figure size 432x288 with 1 Axes>"
            ],
            "image/png": "[encoded data removed]"
          },
          "metadata": {}
        }
      ]
    },
    {
      "cell_type": "code",
      "source": [
        "plt.hist(train_c_len,  bins=np.arange(0,300,10));\n",
        "plt.title('CONTEXT LENGTH AS # of blank space');\n",
        "plt.xticks(np.arange(0,300,20));"
      ],
      "metadata": {
        "colab": {
          "base_uri": "https://localhost:8080/",
          "height": 282
        },
        "id": "1F2M8ZPK4um2",
        "outputId": "3cff22b9-fb22-4a65-c5fe-625c03102dc9"
      },
      "execution_count": 24,
      "outputs": [
        {
          "output_type": "display_data",
          "data": {
            "text/plain": [
              "<Figure size 432x288 with 1 Axes>"
            ],
            "image/png": "[encoded data removed]"
          },
          "metadata": {}
        }
      ]
    },
    {
      "cell_type": "code",
      "source": [],
      "metadata": {
        "id": "3KnhV-A-LJM_"
      },
      "execution_count": 13,
      "outputs": []
    },
    {
      "cell_type": "code",
      "source": [
        "### As tokenizer BERT tokenizer will be used\n",
        "### Bert tokenizer has limited predefined corpus size\n",
        "### Therefore, some out of vocabulary words will be tokenized using word piece tokenization \n"
      ],
      "metadata": {
        "id": "EUGGUhgP40--"
      },
      "execution_count": 14,
      "outputs": []
    },
    {
      "cell_type": "code",
      "source": [
        "def encoder(x):\n",
        "    tokenizer = BertWordPieceTokenizer(vocab=vocab_file, lowercase=True)\n",
        "    ids = []\n",
        "    type_ids = []\n",
        "    # tokens = []\n",
        "    # offsets = []\n",
        "    attention_mask = []\n",
        "    # special_tokens_mask =[]\n",
        "    ids_len = []\n",
        "    for i in range(len(x)):\n",
        "        var1 = tokenizer.encode(x[i])\n",
        "        ids.append(var1.ids)\n",
        "        type_ids.append(var1.type_ids)\n",
        "        # tokens.append(var1.tokens)\n",
        "        # offsets.append(var1.offsets)\n",
        "        attention_mask.append(var1.attention_mask)\n",
        "        # special_tokens_mask.append(var1.special_tokens_mask)\n",
        "        ids_len.append(len(var1.ids))\n",
        "    return ids, type_ids, attention_mask,ids_len\n",
        "\n",
        "cont_ids, cont_type_ids, cont_attention_mask, cont_ids_len = encoder(train_context_str)\n",
        "ans_ids, ans_type_ids , ans_attention_mask,  ans_ids_len = encoder(train_answer_str)\n",
        "qeust_ids, quest_type_ids , quest_attention_mask,  quest_ids_len = encoder(test_question_str)\n"
      ],
      "metadata": {
        "id": "hcxqD_3P94R4"
      },
      "execution_count": 15,
      "outputs": []
    },
    {
      "cell_type": "code",
      "source": [
        "len(quest_ids_len)"
      ],
      "metadata": {
        "colab": {
          "base_uri": "https://localhost:8080/"
        },
        "id": "Md2dBLgUHtAQ",
        "outputId": "6ceaad33-ceb2-42d7-cc7d-2d028688f324"
      },
      "execution_count": 16,
      "outputs": [
        {
          "output_type": "execute_result",
          "data": {
            "text/plain": [
              "10570"
            ]
          },
          "metadata": {},
          "execution_count": 16
        }
      ]
    },
    {
      "cell_type": "code",
      "source": [
        "plt.hist(ans_ids_len, \n",
        "         bins=np.arange(0,40,2), color='blue', alpha = 0.4\n",
        "         );\n",
        "plt.title('Answer LENGTH AS # OF BERT Tokens');\n",
        "plt.xticks(np.arange(0,40,4));"
      ],
      "metadata": {
        "colab": {
          "base_uri": "https://localhost:8080/",
          "height": 282
        },
        "id": "lxtryMa1FCbk",
        "outputId": "b30cd210-5702-46ba-db82-fbb9aefe1a0a"
      },
      "execution_count": 17,
      "outputs": [
        {
          "output_type": "display_data",
          "data": {
            "text/plain": [
              "<Figure size 432x288 with 1 Axes>"
            ],
            "image/png": "[encoded data removed]"
          },
          "metadata": {}
        }
      ]
    },
    {
      "cell_type": "code",
      "source": [
        "plt.hist(quest_ids_len, \n",
        "         bins=np.arange(0,40,2), color='red', alpha = 0.4\n",
        "         );\n",
        "plt.title('Question LENGTH AS # OF BERT Tokens');\n",
        "plt.xticks(np.arange(0,40,2));"
      ],
      "metadata": {
        "colab": {
          "base_uri": "https://localhost:8080/",
          "height": 282
        },
        "id": "0HMcd-JzFFE3",
        "outputId": "07daf6a0-fafe-40d8-a124-b4358c9c8852"
      },
      "execution_count": 18,
      "outputs": [
        {
          "output_type": "display_data",
          "data": {
            "text/plain": [
              "<Figure size 432x288 with 1 Axes>"
            ],
            "image/png": "[encoded data removed]"
          },
          "metadata": {}
        }
      ]
    },
    {
      "cell_type": "code",
      "source": [
        "plt.hist(cont_ids_len, bins=np.arange(0,400,20));\n",
        "plt.title('Contenxt LENGTH AS # OF BERT Tokens');\n",
        "plt.xticks(np.arange(0,400,40));"
      ],
      "metadata": {
        "colab": {
          "base_uri": "https://localhost:8080/",
          "height": 282
        },
        "id": "z5x2RoyvD2vq",
        "outputId": "5b8396a4-321b-490f-a17b-e4e1107007ef"
      },
      "execution_count": 19,
      "outputs": [
        {
          "output_type": "display_data",
          "data": {
            "text/plain": [
              "<Figure size 432x288 with 1 Axes>"
            ],
            "image/png": "[encoded data removed]"
          },
          "metadata": {}
        }
      ]
    },
    {
      "cell_type": "code",
      "source": [
        "plt.hist(np.add(cont_ids_len,ans_ids_len), bins=np.arange(0,400,20));\n",
        "plt.title('Contenxt+Answer LENGTH AS # OF BERT Tokens');\n",
        "plt.xticks(np.arange(0,400,40));"
      ],
      "metadata": {
        "colab": {
          "base_uri": "https://localhost:8080/",
          "height": 282
        },
        "id": "DzZYvKygKqyr",
        "outputId": "915a1dee-3a93-4d71-8927-1c5f1217b510"
      },
      "execution_count": 20,
      "outputs": [
        {
          "output_type": "display_data",
          "data": {
            "text/plain": [
              "<Figure size 432x288 with 1 Axes>"
            ],
            "image/png": "[encoded data removed]"
          },
          "metadata": {}
        }
      ]
    },
    {
      "cell_type": "code",
      "source": [
        "## BERT models have variable input lenths such as 128, 256,384, and 512\n",
        "## As seen from the tokenized answer and and context length it is suitable to use max input length as 384\n"
      ],
      "metadata": {
        "id": "cHakegkzLPXw"
      },
      "execution_count": 21,
      "outputs": []
    },
    {
      "cell_type": "code",
      "source": [],
      "metadata": {
        "id": "OBkamU-3Op7A"
      },
      "execution_count": 21,
      "outputs": []
    }
  ],
  "metadata": {
    "colab": {
      "collapsed_sections": [],
      "provenance": []
    },
    "gpuClass": "standard",
    "kernelspec": {
      "display_name": "Python 3",
      "name": "python3"
    },
    "accelerator": "GPU"
  },
  "nbformat": 4,
  "nbformat_minor": 0
}