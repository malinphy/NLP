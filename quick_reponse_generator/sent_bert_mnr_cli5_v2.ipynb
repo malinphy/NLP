{
  "nbformat": 4,
  "nbformat_minor": 0,
  "metadata": {
    "colab": {
      "provenance": [],
      "collapsed_sections": []
    },
    "kernelspec": {
      "name": "python3",
      "display_name": "Python 3"
    },
    "language_info": {
      "name": "python"
    },
    "gpuClass": "standard"
  },
  "cells": [
    {
      "cell_type": "code",
      "source": [
        "# !pip install --quiet datasets\n",
        "!pip install --quiet scann\n",
        "!pip install --quiet datasets\n",
        "!pip install --quiet pipreqsnb\n",
        "import pandas as pd \n",
        "import numpy as np \n",
        "# from google.colab import drive\n",
        "# drive.mount('/content/drive')\n",
        "import json\n",
        "import os \n",
        "import gzip\n",
        "# import datasets \n",
        "from sklearn.model_selection import train_test_split\n",
        "import tensorflow as tf \n",
        "from tensorflow import keras \n",
        "from tensorflow.keras import layers, Input, Model\n",
        "from tensorflow.keras.layers import *\n",
        "import tensorflow_hub as hub \n",
        "\n",
        "from sklearn.metrics import confusion_matrix\n",
        "\n",
        "import scann\n",
        "from data_loader import data_loader\n",
        "from negative_maker import negative_maker\n",
        "from model import model"
      ],
      "metadata": {
        "id": "rOel9SGq3soF"
      },
      "execution_count": 1,
      "outputs": []
    },
    {
      "cell_type": "code",
      "source": [
        "train_df = data_loader('train_eli5').frame_maker()\n",
        "test_df = data_loader('test_eli5').frame_maker()"
      ],
      "metadata": {
        "id": "ZskaDwxMK1nX",
        "colab": {
          "base_uri": "https://localhost:8080/"
        },
        "outputId": "78db3c0d-3a0a-4a77-bdbb-e234f54cafb9"
      },
      "execution_count": 3,
      "outputs": [
        {
          "output_type": "stream",
          "name": "stderr",
          "text": [
            "WARNING:datasets.builder:Reusing dataset eli5 (/root/.cache/huggingface/datasets/eli5/LFQA_reddit/1.0.0/17574e5502a10f41bbd17beba83e22475b499fa62caa1384a3d093fc856fe6fa)\n",
            "WARNING:datasets.builder:Reusing dataset eli5 (/root/.cache/huggingface/datasets/eli5/LFQA_reddit/1.0.0/17574e5502a10f41bbd17beba83e22475b499fa62caa1384a3d093fc856fe6fa)\n"
          ]
        }
      ]
    },
    {
      "cell_type": "code",
      "source": [
        "# eli5 = datasets.load_dataset('eli5', split = 'train_eli5')\n",
        "\n",
        "use_hub = hub.load(\"https://tfhub.dev/google/universal-sentence-encoder/4\") ## universal sentence encoder model"
      ],
      "metadata": {
        "id": "6WUx6U8z3rli"
      },
      "execution_count": 4,
      "outputs": []
    },
    {
      "cell_type": "code",
      "source": [
        "train_df"
      ],
      "metadata": {
        "colab": {
          "base_uri": "https://localhost:8080/",
          "height": 424
        },
        "id": "0P8Xua9jiU59",
        "outputId": "9d96a582-5c0a-4a88-d78f-cb514260322d"
      },
      "execution_count": 8,
      "outputs": [
        {
          "output_type": "execute_result",
          "data": {
            "text/plain": [
              "                                                    title  \\\n",
              "0       in football whats the point of wasting the fir...   \n",
              "1       Why are different tiers (regular < mid < premi...   \n",
              "2                                    Stars and Visibility   \n",
              "3       How do we know all the money the government is...   \n",
              "4       What are good and bad sides of manual and auto...   \n",
              "...                                                   ...   \n",
              "272629  Do we all see the same color or my red can be ...   \n",
              "272630  what does that often blue tape that athletes p...   \n",
              "272631  If cells die of age, where do new ones come from?   \n",
              "272632  why the future of the planet depends on saving...   \n",
              "272633  Why can people with Alzheimer's easily remembe...   \n",
              "\n",
              "                                                 selftext  \\\n",
              "0                                                           \n",
              "1       I've noticed that the difference in price betw...   \n",
              "2       Why do stars in the night's sky seem to disapp...   \n",
              "3       We hear about these large billion dollar bank ...   \n",
              "4       Please consider I'm not a driver. Automatic se...   \n",
              "...                                                   ...   \n",
              "272629                                          [removed]   \n",
              "272630                                                      \n",
              "272631  Cells tend to die after dividing for a certain...   \n",
              "272632  I don’t understand, honestly thought they just...   \n",
              "272633                                          [deleted]   \n",
              "\n",
              "                                                   answer  \\\n",
              "0       {'a_id': ['ccwtgnz', 'ccwtmho', 'ccwt946', 'cc...   \n",
              "1       {'a_id': ['clwqgxl', 'clwqpjq', 'clwuh3s'], 't...   \n",
              "2       {'a_id': ['e1kpw6u'], 'text': ['It's a quirk o...   \n",
              "3       {'a_id': ['ceohakd', 'ceoikhs', 'ceoji15', 'ce...   \n",
              "4       {'a_id': ['clcur3j'], 'text': ['Automatics wei...   \n",
              "...                                                   ...   \n",
              "272629  {'a_id': ['evmzhep'], 'text': ['Most likely th...   \n",
              "272630  {'a_id': ['evmvuxf', 'evmwasy'], 'text': ['It'...   \n",
              "272631  {'a_id': ['evmx5tu'], 'text': ['That gets a bi...   \n",
              "272632  {'a_id': ['evn0fnd', 'evn04ml', 'evn1pat'], 't...   \n",
              "272633  {'a_id': ['evn2hgj'], 'text': ['It could be th...   \n",
              "\n",
              "                                             first_answer  \n",
              "0       Keep the defense honest, get a feel for the pa...  \n",
              "1       As someone who uses quality Premium, I wish th...  \n",
              "2       It's a quirk of the human eye. At the center o...  \n",
              "3       I'm pretty confident most of it isn't going ba...  \n",
              "4       Automatics weigh more, so that alone makes gas...  \n",
              "...                                                   ...  \n",
              "272629  Most likely that we all see colors the same si...  \n",
              "272630  It's called Kinesio tape.\\n\\nIts supposed to s...  \n",
              "272631  That gets a bit complicated because it depends...  \n",
              "272632  Why are they important? One world: pollination...  \n",
              "272633  It could be that long term memories are stored...  \n",
              "\n",
              "[272634 rows x 4 columns]"
            ],
            "text/html": [
              "\n",
              "  <div id=\"df-6daba1d1-9bb4-40de-9a81-28c03de10012\">\n",
              "    <div class=\"colab-df-container\">\n",
              "      <div>\n",
              "<style scoped>\n",
              "    .dataframe tbody tr th:only-of-type {\n",
              "        vertical-align: middle;\n",
              "    }\n",
              "\n",
              "    .dataframe tbody tr th {\n",
              "        vertical-align: top;\n",
              "    }\n",
              "\n",
              "    .dataframe thead th {\n",
              "        text-align: right;\n",
              "    }\n",
              "</style>\n",
              "<table border=\"1\" class=\"dataframe\">\n",
              "  <thead>\n",
              "    <tr style=\"text-align: right;\">\n",
              "      <th></th>\n",
              "      <th>title</th>\n",
              "      <th>selftext</th>\n",
              "      <th>answer</th>\n",
              "      <th>first_answer</th>\n",
              "    </tr>\n",
              "  </thead>\n",
              "  <tbody>\n",
              "    <tr>\n",
              "      <th>0</th>\n",
              "      <td>in football whats the point of wasting the fir...</td>\n",
              "      <td></td>\n",
              "      <td>{'a_id': ['ccwtgnz', 'ccwtmho', 'ccwt946', 'cc...</td>\n",
              "      <td>Keep the defense honest, get a feel for the pa...</td>\n",
              "    </tr>\n",
              "    <tr>\n",
              "      <th>1</th>\n",
              "      <td>Why are different tiers (regular &lt; mid &lt; premi...</td>\n",
              "      <td>I've noticed that the difference in price betw...</td>\n",
              "      <td>{'a_id': ['clwqgxl', 'clwqpjq', 'clwuh3s'], 't...</td>\n",
              "      <td>As someone who uses quality Premium, I wish th...</td>\n",
              "    </tr>\n",
              "    <tr>\n",
              "      <th>2</th>\n",
              "      <td>Stars and Visibility</td>\n",
              "      <td>Why do stars in the night's sky seem to disapp...</td>\n",
              "      <td>{'a_id': ['e1kpw6u'], 'text': ['It's a quirk o...</td>\n",
              "      <td>It's a quirk of the human eye. At the center o...</td>\n",
              "    </tr>\n",
              "    <tr>\n",
              "      <th>3</th>\n",
              "      <td>How do we know all the money the government is...</td>\n",
              "      <td>We hear about these large billion dollar bank ...</td>\n",
              "      <td>{'a_id': ['ceohakd', 'ceoikhs', 'ceoji15', 'ce...</td>\n",
              "      <td>I'm pretty confident most of it isn't going ba...</td>\n",
              "    </tr>\n",
              "    <tr>\n",
              "      <th>4</th>\n",
              "      <td>What are good and bad sides of manual and auto...</td>\n",
              "      <td>Please consider I'm not a driver. Automatic se...</td>\n",
              "      <td>{'a_id': ['clcur3j'], 'text': ['Automatics wei...</td>\n",
              "      <td>Automatics weigh more, so that alone makes gas...</td>\n",
              "    </tr>\n",
              "    <tr>\n",
              "      <th>...</th>\n",
              "      <td>...</td>\n",
              "      <td>...</td>\n",
              "      <td>...</td>\n",
              "      <td>...</td>\n",
              "    </tr>\n",
              "    <tr>\n",
              "      <th>272629</th>\n",
              "      <td>Do we all see the same color or my red can be ...</td>\n",
              "      <td>[removed]</td>\n",
              "      <td>{'a_id': ['evmzhep'], 'text': ['Most likely th...</td>\n",
              "      <td>Most likely that we all see colors the same si...</td>\n",
              "    </tr>\n",
              "    <tr>\n",
              "      <th>272630</th>\n",
              "      <td>what does that often blue tape that athletes p...</td>\n",
              "      <td></td>\n",
              "      <td>{'a_id': ['evmvuxf', 'evmwasy'], 'text': ['It'...</td>\n",
              "      <td>It's called Kinesio tape.\\n\\nIts supposed to s...</td>\n",
              "    </tr>\n",
              "    <tr>\n",
              "      <th>272631</th>\n",
              "      <td>If cells die of age, where do new ones come from?</td>\n",
              "      <td>Cells tend to die after dividing for a certain...</td>\n",
              "      <td>{'a_id': ['evmx5tu'], 'text': ['That gets a bi...</td>\n",
              "      <td>That gets a bit complicated because it depends...</td>\n",
              "    </tr>\n",
              "    <tr>\n",
              "      <th>272632</th>\n",
              "      <td>why the future of the planet depends on saving...</td>\n",
              "      <td>I don’t understand, honestly thought they just...</td>\n",
              "      <td>{'a_id': ['evn0fnd', 'evn04ml', 'evn1pat'], 't...</td>\n",
              "      <td>Why are they important? One world: pollination...</td>\n",
              "    </tr>\n",
              "    <tr>\n",
              "      <th>272633</th>\n",
              "      <td>Why can people with Alzheimer's easily remembe...</td>\n",
              "      <td>[deleted]</td>\n",
              "      <td>{'a_id': ['evn2hgj'], 'text': ['It could be th...</td>\n",
              "      <td>It could be that long term memories are stored...</td>\n",
              "    </tr>\n",
              "  </tbody>\n",
              "</table>\n",
              "<p>272634 rows × 4 columns</p>\n",
              "</div>\n",
              "      <button class=\"colab-df-convert\" onclick=\"convertToInteractive('df-6daba1d1-9bb4-40de-9a81-28c03de10012')\"\n",
              "              title=\"Convert this dataframe to an interactive table.\"\n",
              "              style=\"display:none;\">\n",
              "        \n",
              "  <svg xmlns=\"http://www.w3.org/2000/svg\" height=\"24px\"viewBox=\"0 0 24 24\"\n",
              "       width=\"24px\">\n",
              "    <path d=\"M0 0h24v24H0V0z\" fill=\"none\"/>\n",
              "    <path d=\"M18.56 5.44l.94 2.06.94-2.06 2.06-.94-2.06-.94-.94-2.06-.94 2.06-2.06.94zm-11 1L8.5 8.5l.94-2.06 2.06-.94-2.06-.94L8.5 2.5l-.94 2.06-2.06.94zm10 10l.94 2.06.94-2.06 2.06-.94-2.06-.94-.94-2.06-.94 2.06-2.06.94z\"/><path d=\"M17.41 7.96l-1.37-1.37c-.4-.4-.92-.59-1.43-.59-.52 0-1.04.2-1.43.59L10.3 9.45l-7.72 7.72c-.78.78-.78 2.05 0 2.83L4 21.41c.39.39.9.59 1.41.59.51 0 1.02-.2 1.41-.59l7.78-7.78 2.81-2.81c.8-.78.8-2.07 0-2.86zM5.41 20L4 18.59l7.72-7.72 1.47 1.35L5.41 20z\"/>\n",
              "  </svg>\n",
              "      </button>\n",
              "      \n",
              "  <style>\n",
              "    .colab-df-container {\n",
              "      display:flex;\n",
              "      flex-wrap:wrap;\n",
              "      gap: 12px;\n",
              "    }\n",
              "\n",
              "    .colab-df-convert {\n",
              "      background-color: #E8F0FE;\n",
              "      border: none;\n",
              "      border-radius: 50%;\n",
              "      cursor: pointer;\n",
              "      display: none;\n",
              "      fill: #1967D2;\n",
              "      height: 32px;\n",
              "      padding: 0 0 0 0;\n",
              "      width: 32px;\n",
              "    }\n",
              "\n",
              "    .colab-df-convert:hover {\n",
              "      background-color: #E2EBFA;\n",
              "      box-shadow: 0px 1px 2px rgba(60, 64, 67, 0.3), 0px 1px 3px 1px rgba(60, 64, 67, 0.15);\n",
              "      fill: #174EA6;\n",
              "    }\n",
              "\n",
              "    [theme=dark] .colab-df-convert {\n",
              "      background-color: #3B4455;\n",
              "      fill: #D2E3FC;\n",
              "    }\n",
              "\n",
              "    [theme=dark] .colab-df-convert:hover {\n",
              "      background-color: #434B5C;\n",
              "      box-shadow: 0px 1px 3px 1px rgba(0, 0, 0, 0.15);\n",
              "      filter: drop-shadow(0px 1px 2px rgba(0, 0, 0, 0.3));\n",
              "      fill: #FFFFFF;\n",
              "    }\n",
              "  </style>\n",
              "\n",
              "      <script>\n",
              "        const buttonEl =\n",
              "          document.querySelector('#df-6daba1d1-9bb4-40de-9a81-28c03de10012 button.colab-df-convert');\n",
              "        buttonEl.style.display =\n",
              "          google.colab.kernel.accessAllowed ? 'block' : 'none';\n",
              "\n",
              "        async function convertToInteractive(key) {\n",
              "          const element = document.querySelector('#df-6daba1d1-9bb4-40de-9a81-28c03de10012');\n",
              "          const dataTable =\n",
              "            await google.colab.kernel.invokeFunction('convertToInteractive',\n",
              "                                                     [key], {});\n",
              "          if (!dataTable) return;\n",
              "\n",
              "          const docLinkHtml = 'Like what you see? Visit the ' +\n",
              "            '<a target=\"_blank\" href=https://colab.research.google.com/notebooks/data_table.ipynb>data table notebook</a>'\n",
              "            + ' to learn more about interactive tables.';\n",
              "          element.innerHTML = '';\n",
              "          dataTable['output_type'] = 'display_data';\n",
              "          await google.colab.output.renderOutput(dataTable, element);\n",
              "          const docLink = document.createElement('div');\n",
              "          docLink.innerHTML = docLinkHtml;\n",
              "          element.appendChild(docLink);\n",
              "        }\n",
              "      </script>\n",
              "    </div>\n",
              "  </div>\n",
              "  "
            ]
          },
          "metadata": {},
          "execution_count": 8
        }
      ]
    },
    {
      "cell_type": "code",
      "source": [
        "train_df = negative_maker(train_df).neg_maker()"
      ],
      "metadata": {
        "id": "DKoC5ZNUG0hG"
      },
      "execution_count": 9,
      "outputs": []
    },
    {
      "cell_type": "code",
      "source": [
        "# train_df_l = pd.concat([train_neg_1,train_neg_2,train_neg_1])"
      ],
      "metadata": {
        "id": "lkukyCF962va"
      },
      "execution_count": 10,
      "outputs": []
    },
    {
      "cell_type": "code",
      "source": [
        "print(len(train_df))"
      ],
      "metadata": {
        "id": "zlw-ONRqpuw3",
        "colab": {
          "base_uri": "https://localhost:8080/"
        },
        "outputId": "d08d6af0-f930-4065-d6ae-518195fea3c7"
      },
      "execution_count": 11,
      "outputs": [
        {
          "output_type": "stream",
          "name": "stdout",
          "text": [
            "272634\n"
          ]
        }
      ]
    },
    {
      "cell_type": "code",
      "source": [
        "def distance_calc(y_true, y_pred):\n",
        "    anchor, positive, negative = tf.split(y_pred, 3, axis=1)\n",
        "    ap_distance = tf.reduce_sum(tf.square(anchor - positive), -1)\n",
        "    an_distance = tf.reduce_sum(tf.square(anchor - negative), -1)\n",
        "    loss = ap_distance - an_distance\n",
        "    margin = 0\n",
        "    loss = tf.maximum(loss + margin, 0.0)\n",
        "    return loss\n",
        "    # return (ap_distance, an_distance)"
      ],
      "metadata": {
        "id": "HlixCkrY2Y_C"
      },
      "execution_count": 12,
      "outputs": []
    },
    {
      "cell_type": "code",
      "source": [
        "print(len(train_df))\n",
        "print(len(test_df))"
      ],
      "metadata": {
        "id": "bpbPOqlG5VVX",
        "colab": {
          "base_uri": "https://localhost:8080/"
        },
        "outputId": "71b588a2-2f6a-47da-e415-12212863b8d0"
      },
      "execution_count": 15,
      "outputs": [
        {
          "output_type": "stream",
          "name": "stdout",
          "text": [
            "272634\n",
            "24512\n"
          ]
        }
      ]
    },
    {
      "cell_type": "code",
      "source": [
        "triplet_model = model()"
      ],
      "metadata": {
        "id": "75Q9UAOJ8JZZ"
      },
      "execution_count": 16,
      "outputs": []
    },
    {
      "cell_type": "code",
      "source": [
        "\n",
        "triplet_model.compile(\n",
        "    optimizer = 'Adam',\n",
        "    loss = distance_calc\n",
        ")\n",
        "y_dummy = np.ones(len(train_df)).reshape(-1,1)\n",
        "triplet_model.fit([np.array(train_df['title']),\n",
        "                   np.array(train_df['first_answer']),\n",
        "                   np.array(train_df['neg_answer'])\n",
        "                   ],\n",
        "                   y_dummy,\n",
        "                   epochs = 4,\n",
        "                  batch_size = 64*64\n",
        "                  )\n"
      ],
      "metadata": {
        "colab": {
          "base_uri": "https://localhost:8080/"
        },
        "id": "DL4NSUyy2Y5n",
        "outputId": "61423e26-6757-48f5-a76a-f1fdb386dbb1"
      },
      "execution_count": null,
      "outputs": [
        {
          "output_type": "stream",
          "name": "stdout",
          "text": [
            "Epoch 1/4\n",
            "21/67 [========>.....................] - ETA: 7:24 - loss: 4.1789e-04"
          ]
        }
      ]
    },
    {
      "cell_type": "code",
      "source": [
        "use_emb =  triplet_model.get_layer('sentence_encoder')"
      ],
      "metadata": {
        "id": "tNWU_E0KV-QH"
      },
      "execution_count": null,
      "outputs": []
    },
    {
      "cell_type": "code",
      "source": [
        "q_0 = []\n",
        "use_emb_test = []\n",
        "for i in range(len(test_df)):\n",
        "    # test_quest = test_df['title']\n",
        "    test_answer = test_df['first_answer'][i]\n",
        "    y = np.array(use_emb(([test_answer]))).reshape(1,512)\n",
        "\n",
        "    use_emb_test.append(y)\n",
        "    # q_0.append(tf.keras.layers.Dot(axes = 1, normalize = True)([test_quest_emb,y]))\n"
      ],
      "metadata": {
        "id": "Z7G24QwECwXb"
      },
      "execution_count": null,
      "outputs": []
    },
    {
      "cell_type": "code",
      "source": [
        "use_emb_test = np.squeeze(np.array(use_emb_test), axis  =1)"
      ],
      "metadata": {
        "id": "PluAZ-ugQrez"
      },
      "execution_count": null,
      "outputs": []
    },
    {
      "cell_type": "code",
      "source": [
        "searcher = scann.scann_ops_pybind.builder(use_emb_test, 40, \"dot_product\").tree(\n",
        "    num_leaves=2000, num_leaves_to_search=100, training_sample_size=250000).score_ah(\n",
        "    2, anisotropic_quantization_threshold=0.2).reorder(100).build()"
      ],
      "metadata": {
        "id": "YbFX801gdUlQ"
      },
      "execution_count": null,
      "outputs": []
    },
    {
      "cell_type": "code",
      "source": [
        "test_quest = test_df['title'][0]\n",
        "test_quest_emb = np.array(use_emb(([test_quest]))).reshape(1,512)\n",
        "\n"
      ],
      "metadata": {
        "id": "oveak7rdsZXI"
      },
      "execution_count": null,
      "outputs": []
    },
    {
      "cell_type": "code",
      "source": [
        "index, distance = searcher.search(test_quest_emb.ravel())\n",
        "index"
      ],
      "metadata": {
        "id": "OgH7WxbxENuw"
      },
      "execution_count": null,
      "outputs": []
    },
    {
      "cell_type": "code",
      "source": [
        "close_index = []\n",
        "for i in range(len(test_df)):\n",
        "    var1 = test_df['title'][i]\n",
        "    var1 = np.array(use_emb(([var1]))).reshape(1,512)\n",
        "    index, distance = searcher.search(var1.ravel())\n",
        "    close_index.append(index)"
      ],
      "metadata": {
        "id": "nFG-uIxGuAUh"
      },
      "execution_count": null,
      "outputs": []
    },
    {
      "cell_type": "code",
      "source": [
        "# !pipreqsnb . "
      ],
      "metadata": {
        "id": "I3vLq49TuCfP"
      },
      "execution_count": null,
      "outputs": []
    },
    {
      "cell_type": "code",
      "source": [
        "def _compute_precision_recall(targets, predictions, k):\n",
        "\n",
        "    pred = predictions[:k]\n",
        "    num_hit = len(set(pred).intersection(set(targets)))\n",
        "    precision = float(num_hit) / len(pred)\n",
        "    recall = float(num_hit) / len(targets)\n",
        "    return precision, recall\n",
        "\n",
        "N = [1,3,5,10,20]\n",
        "for t in N:\n",
        "    precisions = []\n",
        "    recalls = []\n",
        "    for i, _k in enumerate(close_index):\n",
        "        precision, recall = _compute_precision_recall([i], _k,t)\n",
        "    # print(precision)\n",
        "        precisions.append(precision)\n",
        "        recalls.append(recall)\n",
        "\n",
        "    print('precision @',t, np.mean(precisions))\n",
        "    print('recalls @',t, np.mean(recalls))\n",
        "    print(' ')"
      ],
      "metadata": {
        "id": "xClumfgawdsv"
      },
      "execution_count": null,
      "outputs": []
    },
    {
      "cell_type": "code",
      "source": [],
      "metadata": {
        "id": "q5bwHUj3fnxb"
      },
      "execution_count": null,
      "outputs": []
    }
  ]
}